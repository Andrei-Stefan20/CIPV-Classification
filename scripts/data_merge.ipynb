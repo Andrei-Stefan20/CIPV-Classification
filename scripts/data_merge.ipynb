{
 "cells": [
  {
   "cell_type": "markdown",
   "id": "08405553",
   "metadata": {},
   "source": [
    "## Motivation and Context\n",
    "\n",
    "The performance analysis of the baseline classification model, particularly through the confusion matrix, revealed a systematic difficulty in distinguishing between specific categories of toxic relationships. The most significant confusions occurred between:\n",
    "\n",
    "- Narcisista e Succube (Narcissist and Succubus)\n",
    "\n",
    "- Psicopatico e Adulatrice (Psychopath and Flatterer)\n",
    "\n",
    "This overlap is not surprising, as both categories describe relational dynamics characterized by antagonistic personalities (lack of empathy, manipulation, grandiosity) and partners who adopt compliant or submissive adaptation strategies. The subtle distinction between these labels, based solely on the text of the dialogues, represents a significant challenge for any classification model.\n",
    "\n",
    "Hypothesis: By merging these two classes into a single \"super-category\" named Antagonistic and Adaptive Dynamic, it is hypothesized that we will:\n",
    "\n",
    "- Create a more robust class with clearer boundaries compared to the others.\n",
    "\n",
    "- Simplify the classifier's task by reducing the total number of classes from 10 to 9."
   ]
  },
  {
   "cell_type": "code",
   "execution_count": 1,
   "id": "9035b236",
   "metadata": {},
   "outputs": [],
   "source": [
    "import json\n",
    "import os\n",
    "import pandas as pd\n",
    "from collections import Counter\n",
    "\n",
    "\n",
    "# Original input file paths\n",
    "INPUT_DIR = '../data/processed'\n",
    "TRAIN_FILE = os.path.join(INPUT_DIR, 'train.json')\n",
    "TEST_FILE = os.path.join(INPUT_DIR, 'test.json')\n",
    "VAL_FILE = os.path.join(INPUT_DIR, 'val.json')\n",
    "\n",
    "# Paths for the new files with merged classes\n",
    "OUTPUT_DIR = '.'\n",
    "TRAIN_MERGED_FILE = os.path.join(OUTPUT_DIR, 'train_merged.json')\n",
    "TEST_MERGED_FILE = os.path.join(OUTPUT_DIR, 'test_merged.json')\n",
    "VAL_MERGED_FILE = os.path.join(OUTPUT_DIR, 'val_merged.json')\n",
    "\n",
    "# Mapping dictionary for merging classes.\n",
    "CLASS_MAPPING = {\n",
    "    # Gruppo 1: Dinamiche basate su controllo, dominio e manipolazione\n",
    "    \"Controllore e Isolata\": \"Dinamica di Controllo e Sottomissione\",\n",
    "    \"Manipolatore e Dipendente emotiva\": \"Dinamica di Controllo e Sottomissione\",\n",
    "    \"Dominante e Schiavo emotivo\": \"Dinamica di Controllo e Sottomissione\",\n",
    "    \"Persona violenta e Succube\": \"Dinamica di Controllo e Sottomissione\",\n",
    "\n",
    "    # Gruppo 2: Dinamiche basate su personalità antagoniste e crudeltà\n",
    "    \"Narcisista e Succube\": \"Dinamica Antagonista e Adattiva\",\n",
    "    \"Psicopatico e Adulatrice\": \"Dinamica Antagonista e Adattiva\",\n",
    "    \"Sadico-Crudele e Masochista\": \"Dinamica Antagonista e Adattiva\"\n",
    "}\n"
   ]
  },
  {
   "cell_type": "code",
   "execution_count": 2,
   "id": "79ef4dc5",
   "metadata": {},
   "outputs": [],
   "source": [
    "def merge_classes_in_file(input_path: str, output_path: str, mapping: dict):\n",
    "    \"\"\"\n",
    "    Loads a dataset JSON file, merges the classes specified in the mapping,\n",
    "    and saves the result to a new JSON file.\n",
    "\n",
    "    Args:\n",
    "        input_path (str): Path to the input JSON file.\n",
    "        output_path (str): Path to the output JSON file.\n",
    "        mapping (dict): Dictionary defining how to merge the classes.\n",
    "    \"\"\"\n",
    "    try:\n",
    "        # Load the original dataset\n",
    "        with open(input_path, 'r', encoding='utf-8') as f:\n",
    "            data = json.load(f)\n",
    "\n",
    "        new_data = []\n",
    "        # Iterate over each conversation to update the label\n",
    "        for conversation in data:\n",
    "            original_label = conversation['person_couple']\n",
    "            \n",
    "            # Apply the mapping: if the label is a key in the dictionary,\n",
    "            # it is replaced with the corresponding value; otherwise, it remains unchanged.\n",
    "            new_label = mapping.get(original_label, original_label)\n",
    "            \n",
    "            conversation['person_couple'] = new_label\n",
    "            new_data.append(conversation)\n",
    "\n",
    "        # Save the new dataset with merged classes\n",
    "        with open(output_path, 'w', encoding='utf-8') as f:\n",
    "            json.dump(new_data, f, ensure_ascii=False, indent=4)\n",
    "        \n",
    "        print(f\"Processing complete for {input_path}. File saved to {output_path}\")\n",
    "        \n",
    "    except FileNotFoundError:\n",
    "        print(f\"ERROR: Input file {input_path} not found.\")\n",
    "    except Exception as e:\n",
    "        print(f\"An error occurred while processing {input_path}: {e}\")"
   ]
  },
  {
   "cell_type": "code",
   "execution_count": 3,
   "id": "bc2ab4e9",
   "metadata": {},
   "outputs": [
    {
     "name": "stdout",
     "output_type": "stream",
     "text": [
      "Processing complete for ../data/processed\\train.json. File saved to .\\train_merged.json\n",
      "Processing complete for ../data/processed\\test.json. File saved to .\\test_merged.json\n",
      "Processing complete for ../data/processed\\val.json. File saved to .\\val_merged.json\n"
     ]
    }
   ],
   "source": [
    "# List of files to process\n",
    "files_to_process = [\n",
    "    (TRAIN_FILE, TRAIN_MERGED_FILE),\n",
    "    (TEST_FILE, TEST_MERGED_FILE),\n",
    "    (VAL_FILE, VAL_MERGED_FILE)\n",
    "]\n",
    "\n",
    "# Run the function for each file\n",
    "for input_f, output_f in files_to_process:\n",
    "    merge_classes_in_file(input_f, output_f, CLASS_MAPPING)"
   ]
  },
  {
   "cell_type": "code",
   "execution_count": 4,
   "id": "38985e6b",
   "metadata": {},
   "outputs": [
    {
     "name": "stdout",
     "output_type": "stream",
     "text": [
      "--- Class Distribution in Original Dataset ---\n",
      "person_couple\n",
      "Dominante e Schiavo emotivo                 79\n",
      "Geloso-Ossessivo e Sottomessa               77\n",
      "Sadico-Crudele e Masochista                 71\n",
      "Manipolatore e Dipendente emotiva           71\n",
      "Narcisista e Succube                        71\n",
      "Psicopatico e Adulatrice                    70\n",
      "Vittimista e Croccerossina                  69\n",
      "Controllore e Isolata                       68\n",
      "Perfezionista Critico e Insicura Cronica    63\n",
      "Persona violenta e Succube                  61\n",
      "Name: count, dtype: int64\n",
      "\n",
      "==================================================\n",
      "\n",
      "--- Class Distribution in Merged Dataset ---\n",
      "person_couple\n",
      "Dinamica di Controllo e Sottomissione       279\n",
      "Dinamica Antagonista e Adattiva             212\n",
      "Geloso-Ossessivo e Sottomessa                77\n",
      "Vittimista e Croccerossina                   69\n",
      "Perfezionista Critico e Insicura Cronica     63\n",
      "Name: count, dtype: int64\n"
     ]
    }
   ],
   "source": [
    "try:\n",
    "    # Load data into pandas DataFrames for easy analysis\n",
    "    df_original = pd.read_json(TRAIN_FILE)\n",
    "    df_merged = pd.read_json(TRAIN_MERGED_FILE)\n",
    "\n",
    "    print(\"--- Class Distribution in Original Dataset ---\")\n",
    "    print(df_original['person_couple'].value_counts())\n",
    "    print(\"\\n\" + \"=\"*50 + \"\\n\")\n",
    "    print(\"--- Class Distribution in Merged Dataset ---\")\n",
    "    print(df_merged['person_couple'].value_counts())\n",
    "\n",
    "except FileNotFoundError:\n",
    "    print(f\"Verification not possible. Ensure that files '{TRAIN_FILE}' and '{TRAIN_MERGED_FILE}' exist.\")\n",
    "except Exception as e:\n",
    "    print(f\"An error occurred during verification: {e}\")\n"
   ]
  }
 ],
 "metadata": {
  "kernelspec": {
   "display_name": "llm_env_py311 (3.11.9)",
   "language": "python",
   "name": "python3"
  },
  "language_info": {
   "codemirror_mode": {
    "name": "ipython",
    "version": 3
   },
   "file_extension": ".py",
   "mimetype": "text/x-python",
   "name": "python",
   "nbconvert_exporter": "python",
   "pygments_lexer": "ipython3",
   "version": "3.11.9"
  }
 },
 "nbformat": 4,
 "nbformat_minor": 5
}
